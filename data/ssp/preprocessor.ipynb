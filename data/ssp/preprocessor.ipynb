{
 "cells": [
  {
   "cell_type": "code",
   "execution_count": 1,
   "metadata": {},
   "outputs": [
    {
     "name": "stderr",
     "output_type": "stream",
     "text": [
      "/home/shaffei/miniconda3/envs/protbench2/lib/python3.10/site-packages/tqdm/auto.py:21: TqdmWarning: IProgress not found. Please update jupyter and ipywidgets. See https://ipywidgets.readthedocs.io/en/stable/user_install.html\n",
      "  from .autonotebook import tqdm as notebook_tqdm\n"
     ]
    }
   ],
   "source": [
    "from datasets import load_dataset\n",
    "from Bio.SeqRecord import SeqRecord\n",
    "from Bio.Seq import Seq\n",
    "from Bio import SeqIO"
   ]
  },
  {
   "cell_type": "code",
   "execution_count": 2,
   "metadata": {},
   "outputs": [
    {
     "name": "stdout",
     "output_type": "stream",
     "text": [
      "Downloading and preparing dataset csv/proteinea--secondary_structure_prediction to /home/shaffei/.cache/huggingface/datasets/proteinea___csv/proteinea--secondary_structure_prediction-767e4bc930ca6727/0.0.0/eea64c71ca8b46dd3f537ed218fc9bf495d5707789152eb2764f5c78fa66d59d...\n"
     ]
    },
    {
     "name": "stderr",
     "output_type": "stream",
     "text": [
      "Downloading data: 100%|██████████| 30.4M/30.4M [00:07<00:00, 4.09MB/s]\n",
      "Downloading data files: 100%|██████████| 1/1 [00:10<00:00, 10.10s/it]\n",
      "Extracting data files: 100%|██████████| 1/1 [00:00<00:00, 2281.99it/s]\n",
      "                                                                   \r"
     ]
    },
    {
     "name": "stdout",
     "output_type": "stream",
     "text": [
      "Dataset csv downloaded and prepared to /home/shaffei/.cache/huggingface/datasets/proteinea___csv/proteinea--secondary_structure_prediction-767e4bc930ca6727/0.0.0/eea64c71ca8b46dd3f537ed218fc9bf495d5707789152eb2764f5c78fa66d59d. Subsequent calls will reuse this data.\n"
     ]
    },
    {
     "name": "stderr",
     "output_type": "stream",
     "text": [
      "100%|██████████| 1/1 [00:00<00:00, 610.17it/s]\n"
     ]
    },
    {
     "name": "stdout",
     "output_type": "stream",
     "text": [
      "Downloading and preparing dataset csv/proteinea--secondary_structure_prediction to /home/shaffei/.cache/huggingface/datasets/proteinea___csv/proteinea--secondary_structure_prediction-76dc9be1b7d0192c/0.0.0/eea64c71ca8b46dd3f537ed218fc9bf495d5707789152eb2764f5c78fa66d59d...\n"
     ]
    },
    {
     "name": "stderr",
     "output_type": "stream",
     "text": [
      "Downloading data: 100%|██████████| 74.9k/74.9k [00:00<00:00, 1.92MB/s]\n",
      "Downloading data files: 100%|██████████| 1/1 [00:01<00:00,  1.35s/it]\n",
      "Extracting data files: 100%|██████████| 1/1 [00:00<00:00, 3432.33it/s]\n",
      "                                                       \r"
     ]
    },
    {
     "name": "stdout",
     "output_type": "stream",
     "text": [
      "Dataset csv downloaded and prepared to /home/shaffei/.cache/huggingface/datasets/proteinea___csv/proteinea--secondary_structure_prediction-76dc9be1b7d0192c/0.0.0/eea64c71ca8b46dd3f537ed218fc9bf495d5707789152eb2764f5c78fa66d59d. Subsequent calls will reuse this data.\n"
     ]
    },
    {
     "name": "stderr",
     "output_type": "stream",
     "text": [
      "100%|██████████| 1/1 [00:00<00:00, 1679.74it/s]\n"
     ]
    }
   ],
   "source": [
    "dataset_path = \"proteinea/secondary_structure_prediction\"\n",
    "training_dataset = load_dataset(dataset_path, data_files={'train': ['training_hhblits.csv']})\n",
    "casp12_dataset = load_dataset(dataset_path, data_files={'test': ['CASP12.csv']})"
   ]
  },
  {
   "cell_type": "code",
   "execution_count": 3,
   "metadata": {},
   "outputs": [],
   "source": [
    "sequences = []\n",
    "labels = []\n",
    "for i, (seq, label, disorder) in enumerate(\n",
    "    zip(\n",
    "        training_dataset[\"train\"][\"input\"],\n",
    "        training_dataset[\"train\"][\"dssp3\"],\n",
    "        training_dataset[\"train\"][\"disorder\"],\n",
    "    )\n",
    "):\n",
    "    seq_record = SeqRecord(Seq(seq), id=f\"seq_{i}\", description=\"\")\n",
    "    mask = \"\".join(list(map(lambda x: str(int(float(x))), disorder.split(\" \"))))\n",
    "    label_record = SeqRecord(\n",
    "        Seq(label), id=f\"seq_{i}\", description=f\"SET=train MASK={mask}\"\n",
    "    )\n",
    "    sequences.append(seq_record)\n",
    "    labels.append(label_record)\n",
    "\n",
    "for j, (seq, label, disorder) in enumerate(\n",
    "    zip(\n",
    "        casp12_dataset[\"test\"][\"input\"],\n",
    "        casp12_dataset[\"test\"][\"dssp3\"],\n",
    "        casp12_dataset[\"test\"][\"disorder\"],\n",
    "    )\n",
    "):\n",
    "    seq_record = SeqRecord(Seq(seq), id=f\"seq_{i+j+1}\", description=\"\")\n",
    "    mask = \"\".join(list(map(lambda x: str(int(float(x))), disorder.split(\" \"))))\n",
    "    label_record = SeqRecord(\n",
    "        Seq(label), id=f\"seq_{i+j+1}\", description=f\"SET=val MASK={mask}\"\n",
    "    )\n",
    "    sequences.append(seq_record)\n",
    "    labels.append(label_record)"
   ]
  },
  {
   "cell_type": "code",
   "execution_count": 4,
   "metadata": {},
   "outputs": [],
   "source": [
    "with open(\"sequences.fasta\", \"w\") as output_handle:\n",
    "    SeqIO.write(sequences, output_handle, \"fasta\")"
   ]
  },
  {
   "cell_type": "code",
   "execution_count": 5,
   "metadata": {},
   "outputs": [],
   "source": [
    "with open(\"labels.fasta\", \"w\") as output_handle:\n",
    "    SeqIO.write(labels, output_handle, \"fasta\")"
   ]
  }
 ],
 "metadata": {
  "kernelspec": {
   "display_name": "protbench",
   "language": "python",
   "name": "python3"
  },
  "language_info": {
   "codemirror_mode": {
    "name": "ipython",
    "version": 3
   },
   "file_extension": ".py",
   "mimetype": "text/x-python",
   "name": "python",
   "nbconvert_exporter": "python",
   "pygments_lexer": "ipython3",
   "version": "3.10.11"
  },
  "orig_nbformat": 4
 },
 "nbformat": 4,
 "nbformat_minor": 2
}
