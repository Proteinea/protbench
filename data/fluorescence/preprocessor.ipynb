{
 "cells": [
  {
   "cell_type": "code",
   "execution_count": 1,
   "metadata": {},
   "outputs": [
    {
     "name": "stderr",
     "output_type": "stream",
     "text": [
      "/home/shaffei/miniconda3/envs/protbench2/lib/python3.10/site-packages/tqdm/auto.py:21: TqdmWarning: IProgress not found. Please update jupyter and ipywidgets. See https://ipywidgets.readthedocs.io/en/stable/user_install.html\n",
      "  from .autonotebook import tqdm as notebook_tqdm\n"
     ]
    }
   ],
   "source": [
    "from datasets import load_dataset\n",
    "from Bio.SeqRecord import SeqRecord\n",
    "from Bio.Seq import Seq\n",
    "from Bio import SeqIO"
   ]
  },
  {
   "cell_type": "code",
   "execution_count": 2,
   "metadata": {},
   "outputs": [
    {
     "name": "stderr",
     "output_type": "stream",
     "text": [
      "Found cached dataset csv (/home/shaffei/.cache/huggingface/datasets/proteinea___csv/proteinea--Fluorosence-2860946679d383b4/0.0.0/eea64c71ca8b46dd3f537ed218fc9bf495d5707789152eb2764f5c78fa66d59d)\n",
      "100%|██████████| 3/3 [00:00<00:00, 298.62it/s]\n"
     ]
    }
   ],
   "source": [
    "dataset_path = \"proteinea/fluorescence\"\n",
    "dataset = load_dataset(\"proteinea/Fluorosence\")\n",
    "training_dataset = dataset['train']\n",
    "validation_dataset = dataset['validation']"
   ]
  },
  {
   "cell_type": "code",
   "execution_count": 8,
   "metadata": {},
   "outputs": [],
   "source": [
    "sequences = []\n",
    "for i, (seq, label) in enumerate(\n",
    "    zip(\n",
    "        training_dataset[\"primary\"],\n",
    "        training_dataset[\"log_fluorescence\"],\n",
    "    )\n",
    "):\n",
    "    description = f\"SET=train VALUE={label}\"\n",
    "    seq_record = SeqRecord(Seq(seq), id=f\"seq_{i}\", description=description)\n",
    "    sequences.append(seq_record)\n",
    "\n",
    "for j, (seq, label) in enumerate(\n",
    "    zip(\n",
    "        validation_dataset[\"primary\"],\n",
    "        validation_dataset[\"log_fluorescence\"],\n",
    "    )\n",
    "):\n",
    "    description = f\"SET=val VALUE={label}\"\n",
    "    seq_record = SeqRecord(Seq(seq), id=f\"seq_{j+i+1}\", description=description)\n",
    "    sequences.append(seq_record)"
   ]
  },
  {
   "cell_type": "code",
   "execution_count": null,
   "metadata": {},
   "outputs": [],
   "source": [
    "with open(\"data.fasta\", \"w\") as output_handle:\n",
    "    SeqIO.write(sequences, output_handle, \"fasta\")"
   ]
  }
 ],
 "metadata": {
  "kernelspec": {
   "display_name": "protbench2",
   "language": "python",
   "name": "python3"
  },
  "language_info": {
   "codemirror_mode": {
    "name": "ipython",
    "version": 3
   },
   "file_extension": ".py",
   "mimetype": "text/x-python",
   "name": "python",
   "nbconvert_exporter": "python",
   "pygments_lexer": "ipython3",
   "version": "3.10.11"
  },
  "orig_nbformat": 4
 },
 "nbformat": 4,
 "nbformat_minor": 2
}
