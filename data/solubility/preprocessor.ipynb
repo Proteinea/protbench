{
 "cells": [
  {
   "cell_type": "code",
   "execution_count": 1,
   "metadata": {},
   "outputs": [
    {
     "name": "stderr",
     "output_type": "stream",
     "text": [
      "/home/shaffei/miniconda3/envs/protbench2/lib/python3.10/site-packages/tqdm/auto.py:21: TqdmWarning: IProgress not found. Please update jupyter and ipywidgets. See https://ipywidgets.readthedocs.io/en/stable/user_install.html\n",
      "  from .autonotebook import tqdm as notebook_tqdm\n"
     ]
    }
   ],
   "source": [
    "from datasets import load_dataset\n",
    "from Bio import SeqIO\n",
    "from Bio.SeqRecord import SeqRecord\n",
    "from Bio.Seq import Seq"
   ]
  },
  {
   "cell_type": "code",
   "execution_count": 2,
   "metadata": {},
   "outputs": [
    {
     "name": "stderr",
     "output_type": "stream",
     "text": [
      "Downloading readme: 100%|██████████| 21.0/21.0 [00:00<00:00, 214kB/s]\n"
     ]
    },
    {
     "name": "stdout",
     "output_type": "stream",
     "text": [
      "Downloading and preparing dataset csv/proteinea--solubility to /home/shaffei/.cache/huggingface/datasets/proteinea___csv/proteinea--solubility-da9de6f3e3d8fdfa/0.0.0/eea64c71ca8b46dd3f537ed218fc9bf495d5707789152eb2764f5c78fa66d59d...\n"
     ]
    },
    {
     "name": "stderr",
     "output_type": "stream",
     "text": [
      "Downloading data: 100%|██████████| 18.8M/18.8M [00:02<00:00, 6.76MB/s]\n",
      "Downloading data: 100%|██████████| 2.11M/2.11M [00:00<00:00, 3.24MB/s]\n",
      "Downloading data: 100%|██████████| 600k/600k [00:00<00:00, 1.42MB/s]]\n",
      "Downloading data files: 100%|██████████| 3/3 [00:09<00:00,  3.18s/it]\n",
      "Extracting data files: 100%|██████████| 3/3 [00:00<00:00, 4732.20it/s]\n",
      "                                                                    \r"
     ]
    },
    {
     "name": "stdout",
     "output_type": "stream",
     "text": [
      "Dataset csv downloaded and prepared to /home/shaffei/.cache/huggingface/datasets/proteinea___csv/proteinea--solubility-da9de6f3e3d8fdfa/0.0.0/eea64c71ca8b46dd3f537ed218fc9bf495d5707789152eb2764f5c78fa66d59d. Subsequent calls will reuse this data.\n"
     ]
    },
    {
     "name": "stderr",
     "output_type": "stream",
     "text": [
      "100%|██████████| 3/3 [00:00<00:00, 1684.91it/s]\n"
     ]
    }
   ],
   "source": [
    "dataset_path = \"proteinea/solubility\"\n",
    "dataset = load_dataset(dataset_path)\n",
    "training_dataset = dataset['train']\n",
    "validation_dataset = dataset['validation']"
   ]
  },
  {
   "cell_type": "code",
   "execution_count": 3,
   "metadata": {},
   "outputs": [],
   "source": [
    "sequences = []\n",
    "for i, (seq, label) in enumerate(\n",
    "    zip(\n",
    "        training_dataset[\"sequences\"],\n",
    "        training_dataset[\"labels\"],\n",
    "    )\n",
    "):\n",
    "    description = f\"SET=train LABEL={label}\"\n",
    "    seq_record = SeqRecord(Seq(seq), id=f\"seq_{i}\", description=description)\n",
    "    sequences.append(seq_record)\n",
    "\n",
    "for j, (seq, label) in enumerate(\n",
    "    zip(\n",
    "        validation_dataset[\"sequences\"],\n",
    "        validation_dataset[\"labels\"],\n",
    "    )\n",
    "):\n",
    "    description = f\"SET=val LABEL={label}\"\n",
    "    seq_record = SeqRecord(Seq(seq), id=f\"seq_{j+i+1}\", description=description)\n",
    "    sequences.append(seq_record)"
   ]
  },
  {
   "cell_type": "code",
   "execution_count": 12,
   "metadata": {},
   "outputs": [],
   "source": [
    "with open(\"data.fasta\", \"w\") as output_handle:\n",
    "    SeqIO.write(sequences, output_handle, \"fasta\")"
   ]
  }
 ],
 "metadata": {
  "kernelspec": {
   "display_name": "protbench",
   "language": "python",
   "name": "python3"
  },
  "language_info": {
   "codemirror_mode": {
    "name": "ipython",
    "version": 3
   },
   "file_extension": ".py",
   "mimetype": "text/x-python",
   "name": "python",
   "nbconvert_exporter": "python",
   "pygments_lexer": "ipython3",
   "version": "3.10.11"
  },
  "orig_nbformat": 4
 },
 "nbformat": 4,
 "nbformat_minor": 2
}
